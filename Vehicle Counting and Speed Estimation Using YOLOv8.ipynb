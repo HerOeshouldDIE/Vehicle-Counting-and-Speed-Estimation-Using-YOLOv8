{
 "cells": [
  {
   "cell_type": "code",
   "execution_count": 28,
   "id": "b2fc117a",
   "metadata": {},
   "outputs": [],
   "source": [
    "import cv2\n",
    "import pandas as pd\n",
    "import numpy as np\n",
    "from ultralytics import YOLO\n",
    "from tracker import*\n",
    "import time"
   ]
  },
  {
   "cell_type": "code",
   "execution_count": 29,
   "id": "b6f7de1b",
   "metadata": {},
   "outputs": [],
   "source": [
    "model=YOLO('yolov8s.pt')"
   ]
  },
  {
   "cell_type": "code",
   "execution_count": 30,
   "id": "fa7717a4",
   "metadata": {},
   "outputs": [],
   "source": [
    "def RGB(event, x, y, flags, param):\n",
    "    if event == cv2.EVENT_MOUSEMOVE :  \n",
    "        colorsBGR = [x, y]\n",
    "        print(colorsBGR)"
   ]
  },
  {
   "cell_type": "code",
   "execution_count": 31,
   "id": "57e07dd5",
   "metadata": {},
   "outputs": [],
   "source": [
    "cv2.namedWindow('RGB')\n",
    "cv2.setMouseCallback('RGB', RGB)"
   ]
  },
  {
   "cell_type": "code",
   "execution_count": 32,
   "id": "7ec9429c",
   "metadata": {},
   "outputs": [],
   "source": [
    "cap=cv2.VideoCapture('veh2.mp4')"
   ]
  },
  {
   "cell_type": "code",
   "execution_count": 33,
   "id": "51b1a4df",
   "metadata": {},
   "outputs": [],
   "source": [
    "my_file = open(\"coco.txt\", \"r\")\n",
    "data = my_file.read()\n",
    "class_list = data.split(\"\\n\") \n",
    "#print(class_list)"
   ]
  },
  {
   "cell_type": "code",
   "execution_count": 34,
   "id": "3a33551b",
   "metadata": {},
   "outputs": [],
   "source": [
    "count=0\n",
    "tracker=Tracker()\n",
    "vh_down = {}\n",
    "counter = []\n",
    "vh_up = {}\n",
    "counter1 = []\n",
    "vh_dtime = {}\n",
    "vh_utime = {}"
   ]
  },
  {
   "cell_type": "code",
   "execution_count": 35,
   "id": "17c0a81b",
   "metadata": {},
   "outputs": [],
   "source": [
    "cy1=322\n",
    "cy2=368\n",
    "offset=6"
   ]
  },
  {
   "cell_type": "code",
   "execution_count": 36,
   "id": "c23eadd2",
   "metadata": {},
   "outputs": [
    {
     "name": "stderr",
     "output_type": "stream",
     "text": [
      "Ultralytics YOLOv8.0.20  Python-3.9.13 torch-2.1.0+cpu CPU\n",
      "YOLOv8s summary (fused): 168 layers, 11156544 parameters, 0 gradients, 28.6 GFLOPs\n"
     ]
    },
    {
     "name": "stdout",
     "output_type": "stream",
     "text": [
      "[909, 11]\n"
     ]
    }
   ],
   "source": [
    "while True:    \n",
    "    ret,frame = cap.read()\n",
    "    if not ret:\n",
    "        break\n",
    "    count += 1\n",
    "    if count % 3 != 0:\n",
    "        continue\n",
    "    frame=cv2.resize(frame,(1020,500))\n",
    "   \n",
    "\n",
    "    results=model.predict(frame)\n",
    " #   print(results)\n",
    "    a=results[0].boxes.data\n",
    "    px=pd.DataFrame(a).astype(\"float\")\n",
    "#    print(px)\n",
    "    list=[]\n",
    "             \n",
    "    for index,row in px.iterrows():\n",
    "#        print(row)\n",
    " \n",
    "        x1=int(row[0])\n",
    "        y1=int(row[1])\n",
    "        x2=int(row[2])\n",
    "        y2=int(row[3])\n",
    "        d=int(row[5])\n",
    "        c=class_list[d]\n",
    "        if 'car' in c:\n",
    "            list.append([x1,y1,x2,y2])\n",
    "    bbox_id=tracker.update(list)\n",
    "    for bbox in bbox_id:\n",
    "        x3,y3,x4,y4,id=bbox\n",
    "        cx=int(x3+x4)//2\n",
    "        cy=int(y3+y4)//2\n",
    "        cv2.rectangle(frame,(x3,y3),(x4,y4),(0,0,255),1)\n",
    "        if cy1<(cy+offset) and cy1>(cy-offset):\n",
    "                vh_down[id] = cy\n",
    "                vh_dtime[id] = time.time()\n",
    "        if id in vh_down:\n",
    "            if cy2<(cy+offset) and cy2>(cy-offset):\n",
    "                elapsed_time = time.time()-vh_dtime[id]\n",
    "                cv2.circle(frame,(cx,cy),4,(0,0,255),-1)\n",
    "                cv2.putText(frame,str(id),(cx,cy),cv2.FONT_HERSHEY_COMPLEX,0.8,(0,255,255),2)\n",
    "                if counter.count(id)==0:\n",
    "                    counter.append(id)\n",
    "                distance = 10\n",
    "                speed_ms = distance/elapsed_time\n",
    "                speed_km = speed_ms * 3.6\n",
    "                cv2.putText(frame,str(int(speed_km))+'Km/h',(x4,y4),cv2.FONT_HERSHEY_COMPLEX,0.8,(0,255,255),2)\n",
    "   \n",
    "################### going down ######################### \n",
    "\n",
    "        if cy2<(cy+offset) and cy2>(cy-offset):\n",
    "                vh_up[id] = cy\n",
    "                vh_utime[id] = time.time()\n",
    "        if id in vh_up:\n",
    "            if cy1<(cy+offset) and cy1>(cy-offset):\n",
    "                elapsed_time2 = time.time()-vh_utime[id]\n",
    "                cv2.circle(frame,(cx,cy),4,(0,0,255),-1)\n",
    "                cv2.putText(frame,str(id),(cx,cy),cv2.FONT_HERSHEY_COMPLEX,0.8,(0,255,255),2)\n",
    "                if counter1.count(id)==0:\n",
    "                    counter1.append(id)\n",
    "                distance2 = 10\n",
    "                speed_ms2 = distance2/elapsed_time2\n",
    "                speed_km2 = speed_ms2 * 3.6\n",
    "                cv2.putText(frame,str(int(speed_km2))+'Km/h',(x4,y4),cv2.FONT_HERSHEY_COMPLEX,0.8,(0,255,255),2)\n",
    "\n",
    "\n",
    "    cv2.line(frame,(267,cy1),(829,cy1),(255,255,255),1)\n",
    "    cv2.putText(frame,('1line'),(274,318),cv2.FONT_HERSHEY_COMPLEX,0.8,(0,255,255),2)\n",
    "    \n",
    "    cv2.line(frame,(167,cy2),(932,cy2),(255,255,255),1)\n",
    "    cv2.putText(frame,('2line'),(181,363),cv2.FONT_HERSHEY_COMPLEX,0.8,(0,255,255),2)\n",
    "    \n",
    "    d = (len(counter))\n",
    "    cv2.putText(frame,('GoingDown : ')+str(d),(60,40),cv2.FONT_HERSHEY_COMPLEX,0.7,(255,0,0),2)\n",
    "\n",
    "    d2 = (len(counter1))\n",
    "    cv2.putText(frame,('GoingUp : ')+str(d2),(60,130),cv2.FONT_HERSHEY_COMPLEX,0.7,(255,0,0),2)\n",
    "    \n",
    "    cv2.imshow(\"RGB\", frame)\n",
    "    if cv2.waitKey(1)&0xFF==27:\n",
    "        break\n",
    "         \n",
    "cap.release()\n",
    "cv2.destroyAllWindows()"
   ]
  },
  {
   "cell_type": "code",
   "execution_count": null,
   "id": "1b2879f6",
   "metadata": {},
   "outputs": [],
   "source": []
  },
  {
   "cell_type": "code",
   "execution_count": null,
   "id": "8940645c",
   "metadata": {},
   "outputs": [],
   "source": []
  }
 ],
 "metadata": {
  "kernelspec": {
   "display_name": "Python 3 (ipykernel)",
   "language": "python",
   "name": "python3"
  },
  "language_info": {
   "codemirror_mode": {
    "name": "ipython",
    "version": 3
   },
   "file_extension": ".py",
   "mimetype": "text/x-python",
   "name": "python",
   "nbconvert_exporter": "python",
   "pygments_lexer": "ipython3",
   "version": "3.9.13"
  }
 },
 "nbformat": 4,
 "nbformat_minor": 5
}
